{
 "cells": [
  {
   "cell_type": "markdown",
   "metadata": {},
   "source": [
    "# Part 1"
   ]
  },
  {
   "cell_type": "code",
   "execution_count": 13,
   "metadata": {},
   "outputs": [],
   "source": [
    "with open('example.txt', 'r') as f:\n",
    "    lines = f.readlines()\n",
    "    assignment_pairs = [entry.strip() for entry in lines]"
   ]
  },
  {
   "cell_type": "code",
   "execution_count": 14,
   "metadata": {},
   "outputs": [
    {
     "data": {
      "text/plain": [
       "2"
      ]
     },
     "execution_count": 14,
     "metadata": {},
     "output_type": "execute_result"
    }
   ],
   "source": [
    "def is_range_a_in_range_b(range_a, range_b):\n",
    "    start_a, end_a = map(int, range_a.split('-'))\n",
    "    start_b, end_b = map(int, range_b.split('-'))\n",
    "    return start_b <= start_a and end_a <= end_b\n",
    "\n",
    "number_of_contains = 0\n",
    "for assignment_pair in assignment_pairs:\n",
    "    first_range, second_range = assignment_pair.split(',')\n",
    "    if is_range_a_in_range_b(first_range, second_range) or is_range_a_in_range_b(second_range, first_range):\n",
    "        number_of_contains += 1\n",
    "number_of_contains    "
   ]
  },
  {
   "cell_type": "markdown",
   "metadata": {},
   "source": [
    "# Part 2"
   ]
  },
  {
   "cell_type": "code",
   "execution_count": 15,
   "metadata": {},
   "outputs": [
    {
     "data": {
      "text/plain": [
       "4"
      ]
     },
     "execution_count": 15,
     "metadata": {},
     "output_type": "execute_result"
    }
   ],
   "source": [
    "number_of_overlap = 0\n",
    "for assignment_pair in assignment_pairs:\n",
    "    first_range, second_range = assignment_pair.split(',')\n",
    "    start_a, end_a = map(int, first_range.split('-'))\n",
    "    start_b, end_b = map(int, second_range.split('-'))\n",
    "    if start_a in range(start_b, end_b+1) or end_a in range(start_b, end_b+1) or  start_b in range(start_a, end_a+1) or end_b in range(start_a, end_a+1):\n",
    "        number_of_overlap += 1\n",
    "number_of_overlap    "
   ]
  }
 ],
 "metadata": {
  "kernelspec": {
   "display_name": "Python 3.9.6 ('venv': venv)",
   "language": "python",
   "name": "python3"
  },
  "language_info": {
   "codemirror_mode": {
    "name": "ipython",
    "version": 3
   },
   "file_extension": ".py",
   "mimetype": "text/x-python",
   "name": "python",
   "nbconvert_exporter": "python",
   "pygments_lexer": "ipython3",
   "version": "3.9.6"
  },
  "orig_nbformat": 4,
  "vscode": {
   "interpreter": {
    "hash": "499263b96e5ec0b2db123240d2a9912ee0d721101e1fbcf131a42f88078654cb"
   }
  }
 },
 "nbformat": 4,
 "nbformat_minor": 2
}
