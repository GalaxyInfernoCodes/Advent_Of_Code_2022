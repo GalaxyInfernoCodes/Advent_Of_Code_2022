{
 "cells": [
  {
   "cell_type": "markdown",
   "metadata": {},
   "source": [
    "# Part 1"
   ]
  },
  {
   "cell_type": "code",
   "execution_count": 20,
   "metadata": {},
   "outputs": [
    {
     "name": "stdout",
     "output_type": "stream",
     "text": [
      "7\n"
     ]
    }
   ],
   "source": [
    "with open('example.txt', 'r') as f:\n",
    "    line = f.readline().strip()\n",
    "\n",
    "for i in range(len(line)):\n",
    "    if len(set(line[i:i+4]))==4:\n",
    "        print(i+4)\n",
    "        break"
   ]
  },
  {
   "cell_type": "markdown",
   "metadata": {},
   "source": [
    "# Part 2"
   ]
  },
  {
   "cell_type": "code",
   "execution_count": 21,
   "metadata": {},
   "outputs": [
    {
     "name": "stdout",
     "output_type": "stream",
     "text": [
      "19\n"
     ]
    }
   ],
   "source": [
    "with open('example.txt', 'r') as f:\n",
    "    line = f.readline().strip()\n",
    "\n",
    "for i in range(len(line)):\n",
    "    if len(set(line[i:i+14]))==14:\n",
    "        print(i+14)\n",
    "        break"
   ]
  }
 ],
 "metadata": {
  "kernelspec": {
   "display_name": "Python 3.10.6 ('venv': venv)",
   "language": "python",
   "name": "python3"
  },
  "language_info": {
   "codemirror_mode": {
    "name": "ipython",
    "version": 3
   },
   "file_extension": ".py",
   "mimetype": "text/x-python",
   "name": "python",
   "nbconvert_exporter": "python",
   "pygments_lexer": "ipython3",
   "version": "3.10.6"
  },
  "orig_nbformat": 4,
  "vscode": {
   "interpreter": {
    "hash": "3625fa8b66c9fb73b94672e70961d490a07c75af66e5af2a8a91f2874716f9ab"
   }
  }
 },
 "nbformat": 4,
 "nbformat_minor": 2
}
