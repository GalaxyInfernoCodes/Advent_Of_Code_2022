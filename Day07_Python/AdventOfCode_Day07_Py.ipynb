{
 "cells": [
  {
   "cell_type": "code",
   "execution_count": 76,
   "metadata": {},
   "outputs": [],
   "source": [
    "class TreeNode:\n",
    "    def __init__(self, is_dir: bool, name, size=None) -> None:\n",
    "        self.is_dir = is_dir\n",
    "        self.name = name\n",
    "        self.size = size\n",
    "        self.children = []\n",
    "        self.parent = None\n",
    "\n",
    "    def add_child(self, child):\n",
    "        child.parent = self\n",
    "        self.children.append(child)\n",
    "\n",
    "    def get_size(self):\n",
    "        if self.is_dir:\n",
    "            total_size = 0\n",
    "            for child in self.children:\n",
    "                total_size += child.get_size()\n",
    "            return total_size\n",
    "        else:\n",
    "            return self.size\n",
    "\n",
    "    def find_subdirectories_part1(self):\n",
    "        dir_sizes = 0\n",
    "        if self.is_dir:\n",
    "            for child in self.children:\n",
    "                if child.is_dir and child.get_size() <= 100000:\n",
    "                    dir_sizes += child.get_size() + child.find_subdirectories_part1()\n",
    "                else:\n",
    "                    dir_sizes += child.find_subdirectories_part1()\n",
    "        return dir_sizes\n",
    "\n",
    "    def find_subdirectories_part2(self, min_size):\n",
    "        dir_sizes = []\n",
    "        if self.is_dir:\n",
    "            for child in self.children:\n",
    "                if child.is_dir and child.get_size() >= min_size:\n",
    "                    dir_sizes += [child.get_size()] + child.find_subdirectories_part2(min_size)\n",
    "                else:\n",
    "                    dir_sizes += child.find_subdirectories_part2(min_size)\n",
    "        return dir_sizes\n",
    "\n",
    "    def print_children(self, level):\n",
    "        if self.is_dir:\n",
    "            print('--' * level + self.name + ' (total=' + str(self.get_size()) +')')\n",
    "        else: \n",
    "            print('--' * level + self.name + ' (file=' + str(self.get_size()) +')')\n",
    "        if len(self.children) > 0:\n",
    "            for child in self.children:\n",
    "                child.print_children(level+1)\n",
    "                \n",
    "\n",
    "class Tree:\n",
    "    def __init__(self) -> None:\n",
    "        self.root = TreeNode(is_dir=True, name=\"root\")\n",
    "        self.current = self.root \n",
    "\n",
    "    def reset_to_root(self):\n",
    "        self.current = self.root\n",
    "\n",
    "    def go_up_one_level(self):\n",
    "        self.current = self.current.parent\n",
    "\n",
    "    def go_to_child(self, name):\n",
    "        self.current = list(filter(lambda child: child.name == name, self.current.children))[0]\n",
    "\n",
    "    def add_new_child(self, child):\n",
    "        self.current.add_child(child)"
   ]
  },
  {
   "cell_type": "code",
   "execution_count": 78,
   "metadata": {},
   "outputs": [],
   "source": [
    "with open('example.txt', 'r') as f:\n",
    "    lines = f.readlines()\n",
    "    lines = [entry.strip() for entry in lines]\n",
    "\n",
    "tree = Tree()\n",
    "\n",
    "while len(lines) > 0:\n",
    "    line = lines.pop(0)\n",
    "    if line == '$ cd /': \n",
    "        tree.reset_to_root()\n",
    "    elif line == '$ ls':\n",
    "        while len(lines)>0 and '$' not in lines[0]:\n",
    "            line = lines.pop(0)\n",
    "            size, name = line.split(' ')\n",
    "            if size.isdigit():\n",
    "                new_node = TreeNode(is_dir=False, name=name, size=int(size))\n",
    "            else:\n",
    "                new_node = TreeNode(is_dir=True, name=name)\n",
    "            tree.add_new_child(new_node)\n",
    "    elif line == '$ cd ..':\n",
    "        tree.go_up_one_level()\n",
    "    elif '$ cd' in line:\n",
    "        _, _, name = line.split(' ')\n",
    "        tree.go_to_child(name)"
   ]
  },
  {
   "cell_type": "markdown",
   "metadata": {},
   "source": [
    "# Part 1"
   ]
  },
  {
   "cell_type": "code",
   "execution_count": 81,
   "metadata": {},
   "outputs": [
    {
     "name": "stdout",
     "output_type": "stream",
     "text": [
      "root (total=48381165)\n",
      "--a (total=94853)\n",
      "----e (total=584)\n",
      "------i (file=584)\n",
      "----f (file=29116)\n",
      "----g (file=2557)\n",
      "----h.lst (file=62596)\n",
      "--b.txt (file=14848514)\n",
      "--c.dat (file=8504156)\n",
      "--d (total=24933642)\n",
      "----j (file=4060174)\n",
      "----d.log (file=8033020)\n",
      "----d.ext (file=5626152)\n",
      "----k (file=7214296)\n"
     ]
    },
    {
     "data": {
      "text/plain": [
       "95437"
      ]
     },
     "execution_count": 81,
     "metadata": {},
     "output_type": "execute_result"
    }
   ],
   "source": [
    "tree.root.print_children(0)\n",
    "tree.root.find_subdirectories_part1()"
   ]
  },
  {
   "cell_type": "markdown",
   "metadata": {},
   "source": [
    "# Part 2"
   ]
  },
  {
   "cell_type": "code",
   "execution_count": 80,
   "metadata": {},
   "outputs": [
    {
     "data": {
      "text/plain": [
       "24933642"
      ]
     },
     "execution_count": 80,
     "metadata": {},
     "output_type": "execute_result"
    }
   ],
   "source": [
    "total_space = 70000000\n",
    "space_needed = 30000000\n",
    "current_empty_space = 70000000 - tree.root.get_size()\n",
    "possible_dirs = tree.root.find_subdirectories_part2(space_needed - current_empty_space)\n",
    "min(possible_dirs)"
   ]
  }
 ],
 "metadata": {
  "kernelspec": {
   "display_name": "Python 3.10.6 ('venv': venv)",
   "language": "python",
   "name": "python3"
  },
  "language_info": {
   "codemirror_mode": {
    "name": "ipython",
    "version": 3
   },
   "file_extension": ".py",
   "mimetype": "text/x-python",
   "name": "python",
   "nbconvert_exporter": "python",
   "pygments_lexer": "ipython3",
   "version": "3.10.6"
  },
  "orig_nbformat": 4,
  "vscode": {
   "interpreter": {
    "hash": "3625fa8b66c9fb73b94672e70961d490a07c75af66e5af2a8a91f2874716f9ab"
   }
  }
 },
 "nbformat": 4,
 "nbformat_minor": 2
}
