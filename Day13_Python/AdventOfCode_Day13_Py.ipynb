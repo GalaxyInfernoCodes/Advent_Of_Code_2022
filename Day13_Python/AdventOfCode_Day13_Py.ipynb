{
 "cells": [
  {
   "cell_type": "code",
   "execution_count": 157,
   "metadata": {},
   "outputs": [],
   "source": [
    "from copy import deepcopy"
   ]
  },
  {
   "cell_type": "code",
   "execution_count": 158,
   "metadata": {},
   "outputs": [],
   "source": [
    "def compare_lists(first, second):\n",
    "    #print('compare lists')\n",
    "    while len(first) > 0 and len(second) > 0:\n",
    "        left = first.pop(0)\n",
    "        right = second.pop(0)\n",
    "        #print(f\"{left=}, {right=}\")\n",
    "        if type(left) == int and type(right) == int:\n",
    "            if left < right:\n",
    "                return 1\n",
    "            elif left > right:\n",
    "                return -1\n",
    "        if type(left) == list and type(right) == list:\n",
    "            sub_comparison = compare_lists(left, right)\n",
    "            if sub_comparison != 0:\n",
    "                return sub_comparison\n",
    "        if type(left) == int and type(right) == list:\n",
    "            sub_comparison = compare_lists(list([left]), right)\n",
    "            if sub_comparison != 0:\n",
    "                return sub_comparison\n",
    "        if type(left) == list and type(right) == int:\n",
    "            sub_comparison = compare_lists(left, list([right]))\n",
    "            if sub_comparison != 0:\n",
    "                return sub_comparison\n",
    "    #print('compare lengths', f\"{first=}, {second=}\")\n",
    "    if len(first) < len(second):\n",
    "        return 1\n",
    "    elif len(first) > len(second):\n",
    "        return -1\n",
    "    else:\n",
    "         return 0"
   ]
  },
  {
   "cell_type": "code",
   "execution_count": 159,
   "metadata": {},
   "outputs": [],
   "source": [
    "def solve1(file):\n",
    "    with open(file, 'r') as f:\n",
    "        lines = f.readlines()\n",
    "        lines = [entry.strip() for entry in lines]\n",
    "\n",
    "    index = 1\n",
    "    indices = []\n",
    "    pairs = []\n",
    "    while len(lines) > 0:\n",
    "        list_a = eval(lines.pop(0))\n",
    "        list_b = eval(lines.pop(0))\n",
    "        if len(lines) > 0:\n",
    "            lines.pop(0)\n",
    "\n",
    "        #print(f\"{index=}\")\n",
    "        #print(f\"{list_a=}, {list_b=}\")\n",
    "        comparison = compare_lists(list_a, list_b)\n",
    "        if comparison == 1:\n",
    "            indices.append(index)\n",
    "        index += 1\n",
    "        #print(\"-----\")\n",
    "    print(indices)\n",
    "    print(sum(indices))"
   ]
  },
  {
   "cell_type": "code",
   "execution_count": 160,
   "metadata": {},
   "outputs": [
    {
     "name": "stdout",
     "output_type": "stream",
     "text": [
      "[1, 2, 4, 6]\n",
      "13\n"
     ]
    }
   ],
   "source": [
    "solve1('example.txt')"
   ]
  },
  {
   "attachments": {},
   "cell_type": "markdown",
   "metadata": {},
   "source": [
    "# Part 2"
   ]
  },
  {
   "cell_type": "code",
   "execution_count": 161,
   "metadata": {},
   "outputs": [],
   "source": [
    "def solve2(file):\n",
    "    with open(file, 'r') as f:\n",
    "        lines = f.readlines()\n",
    "        lines = [entry.strip() for entry in lines]\n",
    "\n",
    "    smaller_than_2 = 0\n",
    "    smaller_than_6 = 0\n",
    "    while len(lines) > 0:\n",
    "        line = lines.pop(0)\n",
    "        if len(line) == 0:\n",
    "            continue\n",
    "        list_from_file = eval(line)\n",
    "        \n",
    "        if compare_lists(deepcopy(list_from_file), [[2]]) == 1:\n",
    "            smaller_than_2 += 1\n",
    "        if compare_lists(deepcopy(list_from_file), [[6]]) == 1:\n",
    "            smaller_than_6 += 1\n",
    "        \n",
    "    position_of_2 = smaller_than_2 + 1\n",
    "    position_of_6 = smaller_than_6 + 2\n",
    "    print(f\"{position_of_2=}, {position_of_6=}\")\n",
    "    print(position_of_2 * position_of_6)"
   ]
  },
  {
   "cell_type": "code",
   "execution_count": 162,
   "metadata": {},
   "outputs": [
    {
     "name": "stdout",
     "output_type": "stream",
     "text": [
      "position_of_2=10, position_of_6=14\n",
      "140\n"
     ]
    }
   ],
   "source": [
    "solve2('example.txt')"
   ]
  }
 ],
 "metadata": {
  "kernelspec": {
   "display_name": "Python 3",
   "language": "python",
   "name": "python3"
  },
  "language_info": {
   "codemirror_mode": {
    "name": "ipython",
    "version": 3
   },
   "file_extension": ".py",
   "mimetype": "text/x-python",
   "name": "python",
   "nbconvert_exporter": "python",
   "pygments_lexer": "ipython3",
   "version": "3.10.6"
  },
  "orig_nbformat": 4,
  "vscode": {
   "interpreter": {
    "hash": "916dbcbb3f70747c44a77c7bcd40155683ae19c65e1c03b4aa3499c5328201f1"
   }
  }
 },
 "nbformat": 4,
 "nbformat_minor": 2
}
