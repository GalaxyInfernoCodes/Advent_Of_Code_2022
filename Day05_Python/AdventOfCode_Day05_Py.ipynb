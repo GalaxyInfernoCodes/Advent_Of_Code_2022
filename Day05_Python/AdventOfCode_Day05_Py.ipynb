{
 "cells": [
  {
   "cell_type": "markdown",
   "metadata": {},
   "source": [
    "# Day 5"
   ]
  },
  {
   "cell_type": "code",
   "execution_count": 11,
   "metadata": {},
   "outputs": [
    {
     "data": {
      "text/plain": [
       "['    [D]    \\n',\n",
       " '[N] [C]    \\n',\n",
       " '[Z] [M] [P]\\n',\n",
       " ' 1   2   3 \\n',\n",
       " '\\n',\n",
       " 'move 1 from 2 to 1\\n',\n",
       " 'move 3 from 1 to 3\\n',\n",
       " 'move 2 from 2 to 1\\n',\n",
       " 'move 1 from 1 to 2']"
      ]
     },
     "execution_count": 11,
     "metadata": {},
     "output_type": "execute_result"
    }
   ],
   "source": [
    "with open('example.txt', 'r') as f:\n",
    "    lines = f.readlines()\n",
    "    lines = [entry for entry in lines]\n",
    "lines"
   ]
  },
  {
   "cell_type": "code",
   "execution_count": 107,
   "metadata": {},
   "outputs": [],
   "source": [
    "class CrateStack:\n",
    "    def __init__(self) -> None:\n",
    "        self.content = []\n",
    "\n",
    "    def add_item_on_top(self, item):\n",
    "        self.content.append(item)\n",
    "\n",
    "    def take_x_crates(self, x, move_multiple):\n",
    "        return_crates = self.content[-x:]\n",
    "        self.content = self.content[:-x]\n",
    "        if move_multiple:\n",
    "            return return_crates\n",
    "        else:\n",
    "            return reversed(return_crates)\n",
    "    \n",
    "    def add_crates(self, new_crates):\n",
    "        self.content += new_crates\n",
    "\n",
    "    def get_top_content(self):\n",
    "        return self.content[-1] if len(self.content) > 0 else \"\"\n",
    "\n",
    "class CargoBay:\n",
    "    def __init__(self, number_of_crates):\n",
    "        self.number_of_crates = number_of_crates\n",
    "        self.crates = [CrateStack() for _ in range(number_of_crates)]\n",
    "\n",
    "    def add_items_to_crates(self, items):\n",
    "        for crate, item in zip(self.crates, items):\n",
    "            if item != ' ':\n",
    "                crate.add_item_on_top(item)\n",
    "\n",
    "    def move_items(self, amount, source, target, move_multiple):\n",
    "        moving_crates = self.crates[source].take_x_crates(amount, move_multiple)\n",
    "        self.crates[target].add_crates(moving_crates)\n",
    "\n",
    "    def get_top_stacks(self):\n",
    "        return_message = \"\"\n",
    "        for crate in self.crates:\n",
    "            return_message += crate.get_top_content()\n",
    "        return return_message\n",
    "\n",
    "    def print_crates(self):\n",
    "        for crate in self.crates:\n",
    "            print(crate.content)\n",
    "        print('-----')"
   ]
  },
  {
   "cell_type": "code",
   "execution_count": 108,
   "metadata": {},
   "outputs": [],
   "source": [
    "def solve(file_name, part_2=False, print_crates=False):\n",
    "    with open(file_name, 'r') as f:\n",
    "        lines = f.readlines()\n",
    "        lines = [entry for entry in lines]\n",
    "\n",
    "    number_of_crates = len(lines[0])//4\n",
    "    cargo_bay = CargoBay(number_of_crates)\n",
    "\n",
    "    # everything before the empty line (minus the ' 1   2   3...' line are crate lines)\n",
    "    crate_lines = lines[:lines.index('\\n')-1]\n",
    "    # iterate over the crates from the bottom to the top\n",
    "    for line in reversed(crate_lines):\n",
    "        items = list(line)[1:-1:4]\n",
    "        cargo_bay.add_items_to_crates(items)\n",
    "    \n",
    "    # everything after the empty line are moving lines\n",
    "    moving_lines = lines[lines.index('\\n')+1:]\n",
    "    for line in moving_lines:\n",
    "        if print_crates:\n",
    "            cargo_bay.print_crates()\n",
    "        amount, source, target = [int(entry) for entry in line.strip().split(' ') if entry.isdigit()]\n",
    "        cargo_bay.move_items(amount, source-1, target-1, part_2)\n",
    "    \n",
    "    print(cargo_bay.get_top_stacks())"
   ]
  },
  {
   "cell_type": "code",
   "execution_count": 109,
   "metadata": {},
   "outputs": [
    {
     "name": "stdout",
     "output_type": "stream",
     "text": [
      "['Z', 'N']\n",
      "['M', 'C', 'D']\n",
      "['P']\n",
      "-----\n",
      "['Z', 'N', 'D']\n",
      "['M', 'C']\n",
      "['P']\n",
      "-----\n",
      "[]\n",
      "['M', 'C']\n",
      "['P', 'D', 'N', 'Z']\n",
      "-----\n",
      "['C', 'M']\n",
      "[]\n",
      "['P', 'D', 'N', 'Z']\n",
      "-----\n",
      "CMZ\n"
     ]
    }
   ],
   "source": [
    "solve('example.txt', part_2=False, print_crates=True)"
   ]
  },
  {
   "cell_type": "code",
   "execution_count": 110,
   "metadata": {},
   "outputs": [
    {
     "name": "stdout",
     "output_type": "stream",
     "text": [
      "['Z', 'N']\n",
      "['M', 'C', 'D']\n",
      "['P']\n",
      "-----\n",
      "['Z', 'N', 'D']\n",
      "['M', 'C']\n",
      "['P']\n",
      "-----\n",
      "[]\n",
      "['M', 'C']\n",
      "['P', 'Z', 'N', 'D']\n",
      "-----\n",
      "['M', 'C']\n",
      "[]\n",
      "['P', 'Z', 'N', 'D']\n",
      "-----\n",
      "MCD\n"
     ]
    }
   ],
   "source": [
    "solve('example.txt', part_2=True, print_crates=True)"
   ]
  },
  {
   "cell_type": "markdown",
   "metadata": {},
   "source": [
    "Example of what zip does:"
   ]
  },
  {
   "cell_type": "code",
   "execution_count": 41,
   "metadata": {},
   "outputs": [
    {
     "name": "stdout",
     "output_type": "stream",
     "text": [
      "(1, 'a')\n",
      "(2, 'b')\n",
      "(3, 'c')\n"
     ]
    }
   ],
   "source": [
    "for entry in zip([1,2,3], ['a', 'b', 'c']):\n",
    "    print(entry)"
   ]
  },
  {
   "cell_type": "code",
   "execution_count": null,
   "metadata": {},
   "outputs": [],
   "source": []
  }
 ],
 "metadata": {
  "kernelspec": {
   "display_name": "Python 3.10.6 ('venv': venv)",
   "language": "python",
   "name": "python3"
  },
  "language_info": {
   "codemirror_mode": {
    "name": "ipython",
    "version": 3
   },
   "file_extension": ".py",
   "mimetype": "text/x-python",
   "name": "python",
   "nbconvert_exporter": "python",
   "pygments_lexer": "ipython3",
   "version": "3.10.6"
  },
  "orig_nbformat": 4,
  "vscode": {
   "interpreter": {
    "hash": "3625fa8b66c9fb73b94672e70961d490a07c75af66e5af2a8a91f2874716f9ab"
   }
  }
 },
 "nbformat": 4,
 "nbformat_minor": 2
}
