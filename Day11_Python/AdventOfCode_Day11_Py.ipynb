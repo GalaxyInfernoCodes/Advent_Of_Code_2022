{
 "cells": [
  {
   "cell_type": "code",
   "execution_count": 1,
   "metadata": {},
   "outputs": [],
   "source": [
    "import numpy as np"
   ]
  },
  {
   "cell_type": "code",
   "execution_count": 44,
   "metadata": {},
   "outputs": [],
   "source": [
    "class Monkey:\n",
    "    def __init__(self, lines) -> None:\n",
    "        self.number = int(lines[0][-2])\n",
    "\n",
    "        start_items_string = lines[1].replace(':', '').replace(',', '')\n",
    "        self.items = [int(word) for word in start_items_string.split(' ') if word.isdigit()]\n",
    "\n",
    "        self.operation = lines[2].split(' ')[-2]\n",
    "        self.operand = lines[2].split(' ')[-1]\n",
    "\n",
    "        self.test_condition = int(lines[3].split(' ')[-1])\n",
    "        self.true_monkey = int(lines[4].split(' ')[-1])\n",
    "        self.false_monkey = int(lines[5].split(' ')[-1])\n",
    "\n",
    "        self.inspections = 0\n",
    "\n",
    "\n",
    "    def inspect_items(self):\n",
    "        for i, item in enumerate(self.items):\n",
    "            self.inspections += 1\n",
    "            if self.operation == '+':\n",
    "                self.items[i] += int(self.operand)\n",
    "            if self.operation == '*':\n",
    "                if self.operand.isdigit():\n",
    "                    self.items[i] *= int(self.operand)\n",
    "                else:\n",
    "                    self.items[i] *= item\n",
    "        \n",
    "    def reduce_worries(self):\n",
    "        for i, item in enumerate(self.items):\n",
    "            self.items[i] = item // 3\n",
    "\n",
    "\n",
    "    def throw_items(self):\n",
    "        planned_throws = []\n",
    "        for item in self.items:\n",
    "            if item % self.test_condition == 0:\n",
    "                planned_throws.append((item, self.true_monkey))\n",
    "            else:\n",
    "                planned_throws.append((item, self.false_monkey))\n",
    "        self.items = []\n",
    "        return planned_throws\n",
    "\n",
    "    def receive_item(self, item):\n",
    "        self.items.append(item)\n",
    "\n",
    "    def print_monkey_items(self):\n",
    "        print(f\"Monkey {self.number}:\" + ', '.join([str(item) for item in self.items]))"
   ]
  },
  {
   "cell_type": "code",
   "execution_count": 45,
   "metadata": {},
   "outputs": [],
   "source": [
    "def solve_part_1(file):\n",
    "    with open(file, 'r') as f:\n",
    "        lines = f.readlines()\n",
    "        lines = [entry.strip() for entry in lines]\n",
    "\n",
    "    monkeys = []\n",
    "    while len(lines) > 0:\n",
    "        monkeys.append(Monkey(lines))\n",
    "        lines = lines[7:] if len(lines) > 7 else []\n",
    "\n",
    "    round = 0\n",
    "    while round < 20:\n",
    "        round += 1\n",
    "        for monkey in monkeys:\n",
    "            monkey.inspect_items()\n",
    "            monkey.reduce_worries()\n",
    "            planned_throws = monkey.throw_items()\n",
    "            for item, target_monkey in planned_throws:\n",
    "                monkeys[target_monkey].receive_item(item)\n",
    "    print(f\"After round {round}:\")\n",
    "    for monkey in monkeys:\n",
    "        monkey.print_monkey_items()\n",
    "\n",
    "    inspections = [monkey.inspections for monkey in monkeys]\n",
    "    print(np.prod(sorted(inspections, reverse=True)[:2]))"
   ]
  },
  {
   "cell_type": "code",
   "execution_count": 46,
   "metadata": {},
   "outputs": [
    {
     "name": "stdout",
     "output_type": "stream",
     "text": [
      "After round 20:\n",
      "Monkey 0:10, 12, 14, 26, 34\n",
      "Monkey 1:245, 93, 53, 199, 115\n",
      "Monkey 2:\n",
      "Monkey 3:\n",
      "10605\n"
     ]
    }
   ],
   "source": [
    "solve_part_1('example.txt')"
   ]
  },
  {
   "attachments": {},
   "cell_type": "markdown",
   "metadata": {},
   "source": [
    "# Part 2"
   ]
  },
  {
   "cell_type": "code",
   "execution_count": 47,
   "metadata": {},
   "outputs": [],
   "source": [
    "class MonkeyItem:\n",
    "    def __init__(self, divisors, start_value) -> None:\n",
    "        self.values_per_monkey = []\n",
    "        self.divisors = divisors\n",
    "        for divisor in divisors:\n",
    "            self.values_per_monkey.append(start_value % divisor)\n",
    "        \n",
    "    def add_value(self, addon):\n",
    "        for i, value in enumerate(self.values_per_monkey):\n",
    "            self.values_per_monkey[i] = (value + addon) % self.divisors[i]\n",
    "    \n",
    "    def square_value(self):\n",
    "        for i, value in enumerate(self.values_per_monkey):\n",
    "            self.values_per_monkey[i] = (value**2) % self.divisors[i]\n",
    "    \n",
    "    def multiply_value(self, multiplier):\n",
    "        for i, value in enumerate(self.values_per_monkey):\n",
    "            self.values_per_monkey[i] = (value*multiplier) % self.divisors[i]"
   ]
  },
  {
   "cell_type": "code",
   "execution_count": 48,
   "metadata": {},
   "outputs": [],
   "source": [
    "class Monkey2:\n",
    "    def __init__(self, lines) -> None:\n",
    "        self.number = int(lines[0][-2])\n",
    "\n",
    "        start_items_string = lines[1].replace(':', '').replace(',', '')\n",
    "        self.items = [int(word) for word in start_items_string.split(' ') if word.isdigit()]\n",
    "\n",
    "        self.operation = lines[2].split(' ')[-2]\n",
    "        self.operand = lines[2].split(' ')[-1]\n",
    "\n",
    "        self.test_condition = int(lines[3].split(' ')[-1])\n",
    "        self.true_monkey = int(lines[4].split(' ')[-1])\n",
    "        self.false_monkey = int(lines[5].split(' ')[-1])\n",
    "\n",
    "        self.inspections = 0\n",
    "\n",
    "    def convert_item_values(self, divisors):\n",
    "        new_items = []\n",
    "        for item_value in self.items:\n",
    "            new_items.append(MonkeyItem(divisors, item_value))\n",
    "        self.items = new_items\n",
    "\n",
    "    def inspect_items(self):\n",
    "        for i, item in enumerate(self.items):\n",
    "            self.inspections += 1\n",
    "            if self.operation == '+':\n",
    "                self.items[i].add_value(int(self.operand))\n",
    "            if self.operation == '*':\n",
    "                if self.operand.isdigit():\n",
    "                    self.items[i].multiply_value(int(self.operand))\n",
    "                else:\n",
    "                    self.items[i].square_value()\n",
    "\n",
    "\n",
    "    def throw_items(self):\n",
    "        planned_throws = []\n",
    "        for item in self.items:\n",
    "            if item.values_per_monkey[self.number] == 0:\n",
    "                planned_throws.append((item, self.true_monkey))\n",
    "            else:\n",
    "                planned_throws.append((item, self.false_monkey))\n",
    "        self.items = []\n",
    "        return planned_throws\n",
    "\n",
    "    def receive_item(self, item):\n",
    "        self.items.append(item)\n",
    "\n",
    "    def print_monkey_items(self):\n",
    "        print(f\"Monkey {self.number}:\" + ', '.join([str(item.values_per_monkey) for item in self.items]))"
   ]
  },
  {
   "cell_type": "code",
   "execution_count": 49,
   "metadata": {},
   "outputs": [],
   "source": [
    "def solve_part_2(file):\n",
    "    with open(file, 'r') as f:\n",
    "        lines = f.readlines()\n",
    "        lines = [entry.strip() for entry in lines]\n",
    "\n",
    "    monkeys = []\n",
    "    while len(lines) > 0:\n",
    "        monkeys.append(Monkey2(lines))\n",
    "        lines = lines[7:] if len(lines) > 7 else []\n",
    "    \n",
    "    divisors = test_conditions = [monkey.test_condition for monkey in monkeys]\n",
    "    for monkey in monkeys:\n",
    "        monkey.convert_item_values(divisors)\n",
    "\n",
    "    round = 0\n",
    "    while round < 10000:\n",
    "        round += 1\n",
    "        for monkey in monkeys:\n",
    "            monkey.inspect_items()\n",
    "            planned_throws = monkey.throw_items()\n",
    "            for item, target_monkey in planned_throws:\n",
    "                monkeys[target_monkey].receive_item(item)\n",
    "\n",
    "    inspections = [monkey.inspections for monkey in monkeys]\n",
    "    print(np.prod(sorted(inspections, reverse=True)[:2]))"
   ]
  },
  {
   "cell_type": "code",
   "execution_count": 50,
   "metadata": {},
   "outputs": [
    {
     "name": "stdout",
     "output_type": "stream",
     "text": [
      "2713310158\n"
     ]
    }
   ],
   "source": [
    "solve_part_2('example.txt')"
   ]
  }
 ],
 "metadata": {
  "kernelspec": {
   "display_name": "venv",
   "language": "python",
   "name": "python3"
  },
  "language_info": {
   "codemirror_mode": {
    "name": "ipython",
    "version": 3
   },
   "file_extension": ".py",
   "mimetype": "text/x-python",
   "name": "python",
   "nbconvert_exporter": "python",
   "pygments_lexer": "ipython3",
   "version": "3.10.6"
  },
  "orig_nbformat": 4,
  "vscode": {
   "interpreter": {
    "hash": "3625fa8b66c9fb73b94672e70961d490a07c75af66e5af2a8a91f2874716f9ab"
   }
  }
 },
 "nbformat": 4,
 "nbformat_minor": 2
}
