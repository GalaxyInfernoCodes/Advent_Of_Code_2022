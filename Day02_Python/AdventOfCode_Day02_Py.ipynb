{
 "cells": [
  {
   "cell_type": "markdown",
   "metadata": {},
   "source": [
    "# Part 1"
   ]
  },
  {
   "cell_type": "code",
   "execution_count": 40,
   "metadata": {},
   "outputs": [],
   "source": [
    "with open('example.txt', 'r') as f:\n",
    "    lines = f.readlines()\n",
    "    rounds = [entry.strip() for entry in lines]"
   ]
  },
  {
   "cell_type": "code",
   "execution_count": 41,
   "metadata": {},
   "outputs": [],
   "source": [
    "map_input = {'A': 'Rock', 'B': 'Paper', 'C': 'Scissors', 'X': 'Rock', 'Y': 'Paper', 'Z': 'Scissors'}\n",
    "points_per_shape = {'Rock': 1, 'Paper': 2, 'Scissors': 3}\n",
    "points_per_outcome = {'Lose': 0, 'Draw': 3, 'Win': 6}\n",
    "\n",
    "def points_per_round(round_string):\n",
    "    opponent_shape = map_input[round_string[0]]\n",
    "    our_shape = map_input[round_string[2]]\n",
    "\n",
    "    if opponent_shape == our_shape:\n",
    "        return points_per_outcome['Draw'] + points_per_shape[our_shape]\n",
    "    elif (opponent_shape, our_shape) in [('Paper', 'Rock'), ('Rock', 'Scissors'), ('Scissors', 'Paper')]:\n",
    "        # loss for us\n",
    "        return points_per_outcome['Lose'] + points_per_shape[our_shape]\n",
    "    else:\n",
    "        return points_per_outcome['Win'] + points_per_shape[our_shape]\n",
    "    "
   ]
  },
  {
   "cell_type": "code",
   "execution_count": 42,
   "metadata": {},
   "outputs": [
    {
     "data": {
      "text/plain": [
       "15"
      ]
     },
     "execution_count": 42,
     "metadata": {},
     "output_type": "execute_result"
    }
   ],
   "source": [
    "sum([points_per_round(round_string) for round_string in rounds])"
   ]
  },
  {
   "cell_type": "markdown",
   "metadata": {},
   "source": [
    "# Part 2"
   ]
  },
  {
   "cell_type": "code",
   "execution_count": 43,
   "metadata": {},
   "outputs": [],
   "source": [
    "map_input = {'A': 'Rock', 'B': 'Paper', 'C': 'Scissors', 'X': 'Lose', 'Y': 'Draw', 'Z': 'Win'}\n",
    "points_per_shape = {'Rock': 1, 'Paper': 2, 'Scissors': 3}\n",
    "points_per_outcome = {'Lose': 0, 'Draw': 3, 'Win': 6}\n",
    "\n",
    "def points_per_round2(round_string):\n",
    "    opponent_shape = map_input[round_string[0]]\n",
    "    our_goal = map_input[round_string[2]]\n",
    "\n",
    "    if (opponent_shape, our_goal) in [('Rock', 'Draw'), ('Paper', 'Lose'), ('Scissors', 'Win')]:\n",
    "        return points_per_outcome[our_goal] + points_per_shape['Rock']\n",
    "    elif (opponent_shape, our_goal) in [('Rock', 'Win'), ('Paper', 'Draw'), ('Scissors', 'Lose')]:\n",
    "        return points_per_outcome[our_goal] + points_per_shape['Paper']\n",
    "    else:\n",
    "        return points_per_outcome[our_goal] + points_per_shape['Scissors']\n",
    "    "
   ]
  },
  {
   "cell_type": "code",
   "execution_count": 44,
   "metadata": {},
   "outputs": [
    {
     "data": {
      "text/plain": [
       "12"
      ]
     },
     "execution_count": 44,
     "metadata": {},
     "output_type": "execute_result"
    }
   ],
   "source": [
    "sum([points_per_round2(round_string) for round_string in rounds])"
   ]
  }
 ],
 "metadata": {
  "kernelspec": {
   "display_name": "Python 3.10.6 ('venv': venv)",
   "language": "python",
   "name": "python3"
  },
  "language_info": {
   "codemirror_mode": {
    "name": "ipython",
    "version": 3
   },
   "file_extension": ".py",
   "mimetype": "text/x-python",
   "name": "python",
   "nbconvert_exporter": "python",
   "pygments_lexer": "ipython3",
   "version": "3.10.6"
  },
  "orig_nbformat": 4,
  "vscode": {
   "interpreter": {
    "hash": "3625fa8b66c9fb73b94672e70961d490a07c75af66e5af2a8a91f2874716f9ab"
   }
  }
 },
 "nbformat": 4,
 "nbformat_minor": 2
}
