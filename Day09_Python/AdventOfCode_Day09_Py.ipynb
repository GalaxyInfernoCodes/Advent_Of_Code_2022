{
 "cells": [
  {
   "cell_type": "code",
   "execution_count": 39,
   "metadata": {},
   "outputs": [],
   "source": [
    "import numpy as np\n",
    "\n",
    "with open('example.txt', 'r') as f:\n",
    "    lines = f.readlines()\n",
    "    movements = [(entry.strip().split(' ')[0], \n",
    "                    int(entry.strip().split(' ')[1])\n",
    "                  ) \n",
    "                    for entry in lines]"
   ]
  },
  {
   "cell_type": "code",
   "execution_count": 40,
   "metadata": {},
   "outputs": [
    {
     "data": {
      "text/plain": [
       "13"
      ]
     },
     "execution_count": 40,
     "metadata": {},
     "output_type": "execute_result"
    }
   ],
   "source": [
    "head = np.array([0,0])\n",
    "tail = np.array([0,0])\n",
    "\n",
    "def update_tail(head, tail):\n",
    "    difference = head - tail\n",
    "    change_for_tail={\n",
    "        # head is 2 up 1 right from tail, then tail follows up and right once\n",
    "        (2, 1):(1, 1),\n",
    "        # 1 up, 2 right\n",
    "        (1, 2):(1, 1),\n",
    "        # 2up\n",
    "        (2, 0):(1, 0),\n",
    "        # 2up 1left\n",
    "        (2, -1):(1, -1),\n",
    "        # 1up, 2eft\n",
    "        (1, -2):(1, -1),\n",
    "        # 2left\n",
    "        (0, -2):(0, -1),\n",
    "        (-1, -2):(-1,-1),\n",
    "        (-2, -1):(-1, -1),\n",
    "        (-2, 0):(-1, 0),\n",
    "        (-2, 1):(-1, 1),\n",
    "        (-1, 2):(-1, 1),\n",
    "        (0, 2):(0, 1),\n",
    "        # additional cases for part 2\n",
    "        (2, 2):(1, 1),\n",
    "        (-2, -2):(-1, -1),\n",
    "        (-2, 2):(-1, 1),\n",
    "        (2, -2):(1, -1)\n",
    "      }\n",
    "    new_tail_pos = tail + np.array(change_for_tail.get(tuple(difference), (0,0)))\n",
    "    return new_tail_pos\n",
    "\n",
    "def update_head(head, direction):\n",
    "    if direction == 'R':\n",
    "        head[1] += 1\n",
    "    elif direction == 'L':\n",
    "        head[1] -= 1\n",
    "    elif direction == 'U':\n",
    "        head[0] += 1\n",
    "    elif direction == 'D':\n",
    "        head[0] -= 1\n",
    "    return head\n",
    "\n",
    "tail_positions = set([tuple(tail)])\n",
    "for direction, distance in movements:\n",
    "    while distance > 0:\n",
    "        head = update_head(head, direction)\n",
    "        distance -= 1\n",
    "        tail = update_tail(head, tail)\n",
    "        tail_positions.add(tuple(tail))\n",
    "        #print(f\"{head=}, {tail=}\")\n",
    "len(tail_positions)"
   ]
  },
  {
   "attachments": {},
   "cell_type": "markdown",
   "metadata": {},
   "source": [
    "# Part 2"
   ]
  },
  {
   "cell_type": "code",
   "execution_count": 41,
   "metadata": {},
   "outputs": [
    {
     "data": {
      "text/plain": [
       "1"
      ]
     },
     "execution_count": 41,
     "metadata": {},
     "output_type": "execute_result"
    }
   ],
   "source": [
    "rope = [np.array([0,0]) for _ in range(10)]\n",
    "\n",
    "tail_positions = set([tuple(rope[9])])\n",
    "for direction, distance in movements:\n",
    "    while distance > 0:\n",
    "        rope[0] = update_head(rope[0], direction)\n",
    "        distance -= 1\n",
    "        for i in range(1, len(rope)):\n",
    "            rope[i] = update_tail(rope[i-1], rope[i])\n",
    "        tail_positions.add(tuple(rope[9]))\n",
    "len(tail_positions)"
   ]
  }
 ],
 "metadata": {
  "kernelspec": {
   "display_name": "Python 3.10.6 ('venv': venv)",
   "language": "python",
   "name": "python3"
  },
  "language_info": {
   "codemirror_mode": {
    "name": "ipython",
    "version": 3
   },
   "file_extension": ".py",
   "mimetype": "text/x-python",
   "name": "python",
   "nbconvert_exporter": "python",
   "pygments_lexer": "ipython3",
   "version": "3.10.6"
  },
  "orig_nbformat": 4,
  "vscode": {
   "interpreter": {
    "hash": "3625fa8b66c9fb73b94672e70961d490a07c75af66e5af2a8a91f2874716f9ab"
   }
  }
 },
 "nbformat": 4,
 "nbformat_minor": 2
}
