{
 "cells": [
  {
   "cell_type": "code",
   "execution_count": 139,
   "metadata": {},
   "outputs": [],
   "source": [
    "class SimpleCPU:\n",
    "    def __init__(self) -> None:\n",
    "        self.register_X = 1\n",
    "        self.cycle = 1\n",
    "        self.waiting_add = 0\n",
    "        self.wait = -1\n",
    "        self.sum_of_registers = 0\n",
    "        self.display = \"\"\n",
    "\n",
    "    def run_command(self, command):\n",
    "        if 'addx' in command:\n",
    "            add_nr = int(command.split(' ')[1])\n",
    "            self.wait = 2\n",
    "            self.waiting_add = add_nr\n",
    "\n",
    "    def advance_cycle(self):\n",
    "        if self.cycle in [20, 60, 100, 140, 180, 220]:\n",
    "            self.sum_of_registers += self.cycle * self.register_X\n",
    "        self.cycle += 1\n",
    "        self.wait -= 1\n",
    "        if self.wait == 0:\n",
    "            self.register_X += self.waiting_add\n",
    "\n",
    "    def print_cpu_state(self, part):\n",
    "        if part == 1:\n",
    "            if self.cycle in [20, 60, 100, 140, 180, 220]:\n",
    "                print(f\"Completed cycles: {self.cycle}, register: {self.register_X}\")\n",
    "                if self.wait > 0:\n",
    "                    print(f\"waiting add: {self.waiting_add} in {self.wait} cycles\")\n",
    "                print('-----')\n",
    "        else:\n",
    "            sprite = [self.register_X - 1, self.register_X, self.register_X + 1]\n",
    "            if (self.cycle-1) % 40 in sprite:\n",
    "                self.display += \"O\"\n",
    "            else:\n",
    "                self.display += \"_\"\n",
    "            if len(self.display) == 40:\n",
    "                print(self.display)\n",
    "                self.display = \"\" "
   ]
  },
  {
   "cell_type": "code",
   "execution_count": 150,
   "metadata": {},
   "outputs": [],
   "source": [
    "def solve(file, part=1):\n",
    "    with open(file, 'r') as f:\n",
    "        lines = f.readlines()\n",
    "        lines = [entry.strip() for entry in lines]\n",
    "\n",
    "    cpu = SimpleCPU()\n",
    "\n",
    "    while len(lines) > 0 or cpu.wait > 0:\n",
    "        if cpu.wait > 0:\n",
    "            pass\n",
    "        else:\n",
    "            line = lines.pop(0)\n",
    "            cpu.run_command(line)\n",
    "        cpu.print_cpu_state(part=part)\n",
    "        cpu.advance_cycle()\n",
    "    if part == 1:\n",
    "        print('sum of signal strenghts', cpu.sum_of_registers)"
   ]
  },
  {
   "attachments": {},
   "cell_type": "markdown",
   "metadata": {},
   "source": [
    "# Part 1"
   ]
  },
  {
   "cell_type": "code",
   "execution_count": 151,
   "metadata": {},
   "outputs": [
    {
     "name": "stdout",
     "output_type": "stream",
     "text": [
      "Completed cycles: 20, register: 21\n",
      "waiting add: -1 in 2 cycles\n",
      "-----\n",
      "Completed cycles: 60, register: 19\n",
      "waiting add: -3 in 2 cycles\n",
      "-----\n",
      "Completed cycles: 100, register: 18\n",
      "-----\n",
      "Completed cycles: 140, register: 21\n",
      "waiting add: 1 in 2 cycles\n",
      "-----\n",
      "Completed cycles: 180, register: 16\n",
      "waiting add: -9 in 2 cycles\n",
      "-----\n",
      "Completed cycles: 220, register: 18\n",
      "waiting add: 1 in 1 cycles\n",
      "-----\n",
      "sum of signal strenghts 13140\n"
     ]
    }
   ],
   "source": [
    "solve('example2.txt', part=1)"
   ]
  },
  {
   "attachments": {},
   "cell_type": "markdown",
   "metadata": {},
   "source": [
    "# Part 2"
   ]
  },
  {
   "cell_type": "code",
   "execution_count": 152,
   "metadata": {},
   "outputs": [
    {
     "name": "stdout",
     "output_type": "stream",
     "text": [
      "OO__OO__OO__OO__OO__OO__OO__OO__OO__OO__\n",
      "OOO___OOO___OOO___OOO___OOO___OOO___OOO_\n",
      "OOOO____OOOO____OOOO____OOOO____OOOO____\n",
      "OOOOO_____OOOOO_____OOOOO_____OOOOO_____\n",
      "OOOOOO______OOOOOO______OOOOOO______OOOO\n",
      "OOOOOOO_______OOOOOOO_______OOOOOOO_____\n"
     ]
    }
   ],
   "source": [
    "solve('example2.txt', part=2)"
   ]
  },
  {
   "cell_type": "code",
   "execution_count": null,
   "metadata": {},
   "outputs": [],
   "source": []
  }
 ],
 "metadata": {
  "kernelspec": {
   "display_name": "venv",
   "language": "python",
   "name": "python3"
  },
  "language_info": {
   "codemirror_mode": {
    "name": "ipython",
    "version": 3
   },
   "file_extension": ".py",
   "mimetype": "text/x-python",
   "name": "python",
   "nbconvert_exporter": "python",
   "pygments_lexer": "ipython3",
   "version": "3.10.6"
  },
  "orig_nbformat": 4,
  "vscode": {
   "interpreter": {
    "hash": "3625fa8b66c9fb73b94672e70961d490a07c75af66e5af2a8a91f2874716f9ab"
   }
  }
 },
 "nbformat": 4,
 "nbformat_minor": 2
}
