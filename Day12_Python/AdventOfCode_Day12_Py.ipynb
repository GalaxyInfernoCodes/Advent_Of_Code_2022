{
 "cells": [
  {
   "cell_type": "code",
   "execution_count": 36,
   "metadata": {},
   "outputs": [],
   "source": [
    "import numpy as np\n",
    "from scipy import sparse"
   ]
  },
  {
   "cell_type": "code",
   "execution_count": 84,
   "metadata": {},
   "outputs": [],
   "source": [
    "def find_reachable_neighbors(grid, i, j):\n",
    "    neighbors = []\n",
    "    grid_length, grid_width = grid.shape\n",
    "    current_value = grid[i][j]\n",
    "    if 0 < i and \\\n",
    "        ord(grid[i-1][j]) <= ord(current_value) + 1:\n",
    "        neighbors.append((i-1)*grid_width + j)\n",
    "    if i + 1 < grid_length and \\\n",
    "        ord(grid[i+1][j]) <= ord(current_value) + 1:\n",
    "        neighbors.append((i+1)*grid_width + j)\n",
    "    if 0 < j and \\\n",
    "        ord(grid[i][j-1]) <= ord(current_value) + 1:\n",
    "        neighbors.append(i*grid_width + j - 1)\n",
    "    if j + 1 < grid_width and \\\n",
    "        ord(grid[i][j+1]) <= ord(current_value) + 1:\n",
    "        neighbors.append(i*grid_width + j + 1)\n",
    "    return neighbors"
   ]
  },
  {
   "cell_type": "code",
   "execution_count": 85,
   "metadata": {},
   "outputs": [],
   "source": [
    "def solve(file, part=1):\n",
    "    with open(file, 'r') as f:\n",
    "        lines = f.readlines()\n",
    "        lines = [entry.strip() for entry in lines]\n",
    "\n",
    "    grid = np.array([list(row) for row in lines])\n",
    "\n",
    "    # get coordinates of S and E before replacing them\n",
    "    start_coord = np.where(grid.flatten() == 'S')[0][0]\n",
    "    end_coord = np.where(grid.flatten() == 'E')[0][0]\n",
    "\n",
    "    # replace S with a and E with z\n",
    "    grid[np.where(grid == 'S')] = 'a'\n",
    "    grid[np.where(grid == 'E')] = 'z'\n",
    "\n",
    "    if part==2:\n",
    "        start_coord = np.where(grid.flatten() == 'a')[0]\n",
    "\n",
    "    nr_of_fields = grid.shape[0] * grid.shape[1]\n",
    "    # build an adjacency? matrix to document which fields can be reached from which in one step\n",
    "    adj_matrix = np.zeros((nr_of_fields, nr_of_fields))\n",
    "    for i in np.arange(grid.shape[0]):\n",
    "        for j in np.arange(grid.shape[1]):\n",
    "            neighbors_indices = find_reachable_neighbors(grid, i, j)\n",
    "            np.put(adj_matrix[i*grid.shape[1] + j], neighbors_indices, 1)\n",
    "\n",
    "    target_matrix = sparse.csr_matrix(adj_matrix)\n",
    "    adj_matrix = sparse.csr_matrix(adj_matrix)\n",
    "    steps = 1\n",
    "    while (target_matrix.toarray()[start_coord, end_coord] == 0).all() and steps < 500:\n",
    "        if steps % 30 == 0:\n",
    "            print(f\"{steps=}\")\n",
    "        target_matrix = target_matrix @ adj_matrix\n",
    "        steps += 1\n",
    "    print(steps)"
   ]
  },
  {
   "attachments": {},
   "cell_type": "markdown",
   "metadata": {},
   "source": [
    "## careful\n",
    "this code took about 5min to solve my input, and roughly 500 steps, increase the step threshold if you don't get a solution in that amount of steps but expect time to increase"
   ]
  },
  {
   "cell_type": "code",
   "execution_count": 86,
   "metadata": {},
   "outputs": [
    {
     "name": "stdout",
     "output_type": "stream",
     "text": [
      "29\n"
     ]
    }
   ],
   "source": [
    "solve('example.txt', part=2)"
   ]
  }
 ],
 "metadata": {
  "kernelspec": {
   "display_name": "venv",
   "language": "python",
   "name": "python3"
  },
  "language_info": {
   "codemirror_mode": {
    "name": "ipython",
    "version": 3
   },
   "file_extension": ".py",
   "mimetype": "text/x-python",
   "name": "python",
   "nbconvert_exporter": "python",
   "pygments_lexer": "ipython3",
   "version": "3.10.6"
  },
  "orig_nbformat": 4,
  "vscode": {
   "interpreter": {
    "hash": "3625fa8b66c9fb73b94672e70961d490a07c75af66e5af2a8a91f2874716f9ab"
   }
  }
 },
 "nbformat": 4,
 "nbformat_minor": 2
}
