{
 "cells": [
  {
   "cell_type": "code",
   "execution_count": 127,
   "metadata": {},
   "outputs": [],
   "source": [
    "import numpy as np\n",
    "from functools import reduce"
   ]
  },
  {
   "cell_type": "code",
   "execution_count": 138,
   "metadata": {},
   "outputs": [],
   "source": [
    "with open('example.txt', 'r') as f:\n",
    "    lines = f.readlines()\n",
    "    lines = [entry.strip() for entry in lines]\n",
    "\n",
    "trees = np.zeros((len(lines), len(lines[0])), dtype=int)\n",
    "for i, line in enumerate(lines):\n",
    "    trees[i, :] = np.array(list(line))"
   ]
  },
  {
   "cell_type": "markdown",
   "metadata": {},
   "source": [
    "# Part 1"
   ]
  },
  {
   "cell_type": "code",
   "execution_count": 143,
   "metadata": {},
   "outputs": [
    {
     "data": {
      "text/plain": [
       "21"
      ]
     },
     "execution_count": 143,
     "metadata": {},
     "output_type": "execute_result"
    }
   ],
   "source": [
    "# the edges are always visible\n",
    "visible_trees = 2*len(lines[0]) + 2 *(len(lines)-2)\n",
    "\n",
    "# iterate over trees\n",
    "for i in range(1, trees.shape[0]-1):\n",
    "    for j in range(1, trees.shape[1]-1):\n",
    "        tree_column = trees[:, j] - trees[i, j]\n",
    "        tree_row = trees[i, :] - trees[i, j]\n",
    "        routes = [tree_row[:j], tree_row[j+1:], tree_column[:i], tree_column[i+1:]]\n",
    "        if sum(list(map(lambda route: (route<0).all(), routes))) > 0:\n",
    "            visible_trees += 1\n",
    "visible_trees"
   ]
  },
  {
   "cell_type": "code",
   "execution_count": 141,
   "metadata": {},
   "outputs": [
    {
     "data": {
      "text/plain": [
       "8"
      ]
     },
     "execution_count": 141,
     "metadata": {},
     "output_type": "execute_result"
    }
   ],
   "source": [
    "scenic_scores = np.zeros((len(lines), len(lines[0])), dtype=int)\n",
    "\n",
    "def compute_scenic_score(route):\n",
    "    big_trees_array = list(route >= 0)\n",
    "    if True in big_trees_array:\n",
    "        return big_trees_array.index(True) + 1\n",
    "    else:\n",
    "        return len(big_trees_array)\n",
    "\n",
    "# iterate over trees\n",
    "for i in range(1, trees.shape[0]-1):\n",
    "    for j in range(1, trees.shape[1]-1):\n",
    "        tree_column = trees[:, j] - trees[i, j]\n",
    "        tree_row = trees[i, :] - trees[i, j]\n",
    "        # left, right, up, down\n",
    "        routes = [tree_row[j-1::-1], tree_row[j+1:], tree_column[i-1::-1], tree_column[i+1:]]\n",
    "        scenic_scores[i,j] = np.prod(list(map(compute_scenic_score, routes)))\n",
    "    \n",
    "np.max(scenic_scores)"
   ]
  },
  {
   "cell_type": "code",
   "execution_count": null,
   "metadata": {},
   "outputs": [],
   "source": []
  }
 ],
 "metadata": {
  "kernelspec": {
   "display_name": "Python 3.9.6 ('venv': venv)",
   "language": "python",
   "name": "python3"
  },
  "language_info": {
   "codemirror_mode": {
    "name": "ipython",
    "version": 3
   },
   "file_extension": ".py",
   "mimetype": "text/x-python",
   "name": "python",
   "nbconvert_exporter": "python",
   "pygments_lexer": "ipython3",
   "version": "3.9.6"
  },
  "orig_nbformat": 4,
  "vscode": {
   "interpreter": {
    "hash": "499263b96e5ec0b2db123240d2a9912ee0d721101e1fbcf131a42f88078654cb"
   }
  }
 },
 "nbformat": 4,
 "nbformat_minor": 2
}
