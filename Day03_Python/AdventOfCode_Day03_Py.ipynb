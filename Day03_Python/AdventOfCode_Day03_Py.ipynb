{
 "cells": [
  {
   "cell_type": "markdown",
   "metadata": {},
   "source": [
    "# Part 1"
   ]
  },
  {
   "cell_type": "code",
   "execution_count": 21,
   "metadata": {},
   "outputs": [],
   "source": [
    "with open('example.txt', 'r') as f:\n",
    "    lines = f.readlines()\n",
    "    rucksacks = [entry.strip() for entry in lines]"
   ]
  },
  {
   "cell_type": "code",
   "execution_count": 22,
   "metadata": {},
   "outputs": [],
   "source": [
    "rucksack_sum = 0\n",
    "for rucksack in rucksacks:\n",
    "    # split in half \n",
    "    first_half = set(rucksack[:len(rucksack)//2])\n",
    "    second_half = set(rucksack[len(rucksack)//2:])\n",
    "    # get overlap through set logic (intersection of two sets)\n",
    "    overlap_char = (first_half.intersection(second_half)).pop()\n",
    "\n",
    "    # translate to ascii and substract the base ('A' is 65, 'B' is 66 and so on) and add the new base\n",
    "    if overlap_char.isupper():\n",
    "        rucksack_sum += ord(overlap_char) - ord('A') + 27\n",
    "    else:\n",
    "        rucksack_sum += ord(overlap_char) - ord('a') + 1\n",
    "    "
   ]
  },
  {
   "cell_type": "code",
   "execution_count": 23,
   "metadata": {},
   "outputs": [
    {
     "data": {
      "text/plain": [
       "157"
      ]
     },
     "execution_count": 23,
     "metadata": {},
     "output_type": "execute_result"
    }
   ],
   "source": [
    "rucksack_sum"
   ]
  },
  {
   "cell_type": "markdown",
   "metadata": {},
   "source": [
    "# Part 2"
   ]
  },
  {
   "cell_type": "code",
   "execution_count": 24,
   "metadata": {},
   "outputs": [
    {
     "data": {
      "text/plain": [
       "70"
      ]
     },
     "execution_count": 24,
     "metadata": {},
     "output_type": "execute_result"
    }
   ],
   "source": [
    "rucksack_sum = 0\n",
    "while len(rucksacks) > 0:\n",
    "    # take out first 3 entries\n",
    "    first_rucksack = set(rucksacks.pop())\n",
    "    second_rucksack = set(rucksacks.pop())\n",
    "    third_rucksack = set(rucksacks.pop())\n",
    "    # get overlap through set logic (intersection of two sets applied twice)\n",
    "    overlap_char = ((first_rucksack.intersection(second_rucksack)).intersection(third_rucksack)).pop()\n",
    "\n",
    "    # translate to ascii and substract the base ('A' is 65, 'B' is 66 and so on) and add the new base\n",
    "    if overlap_char.isupper():\n",
    "        rucksack_sum += ord(overlap_char) - ord('A') + 27\n",
    "    else:\n",
    "        rucksack_sum += ord(overlap_char) - ord('a') + 1\n",
    "rucksack_sum"
   ]
  }
 ],
 "metadata": {
  "kernelspec": {
   "display_name": "Python 3.10.6 ('venv': venv)",
   "language": "python",
   "name": "python3"
  },
  "language_info": {
   "codemirror_mode": {
    "name": "ipython",
    "version": 3
   },
   "file_extension": ".py",
   "mimetype": "text/x-python",
   "name": "python",
   "nbconvert_exporter": "python",
   "pygments_lexer": "ipython3",
   "version": "3.10.6"
  },
  "orig_nbformat": 4,
  "vscode": {
   "interpreter": {
    "hash": "3625fa8b66c9fb73b94672e70961d490a07c75af66e5af2a8a91f2874716f9ab"
   }
  }
 },
 "nbformat": 4,
 "nbformat_minor": 2
}
