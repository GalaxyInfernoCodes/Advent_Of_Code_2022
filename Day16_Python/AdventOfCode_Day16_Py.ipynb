{
 "cells": [
  {
   "cell_type": "code",
   "execution_count": 2,
   "metadata": {},
   "outputs": [],
   "source": [
    "class Valve:\n",
    "    def __init__(self, name, flow_rate) -> None:\n",
    "        self.name = name\n",
    "        self.flow_rate = flow_rate\n",
    "        if flow_rate == 0:\n",
    "            # just pretend they're already opened \n",
    "            # since we never want to waste time opening these\n",
    "            self.open = True\n",
    "        else:\n",
    "            self.open = False\n",
    "        self.neighbors = []\n",
    "\n",
    "    def add_neighbor(self, neighbor):\n",
    "        self.neighbors.append(neighbor)"
   ]
  },
  {
   "cell_type": "code",
   "execution_count": 3,
   "metadata": {},
   "outputs": [],
   "source": [
    "def create_and_connect_valves(lines):\n",
    "    valves = dict()\n",
    "\n",
    "    # create base valves\n",
    "    for line in lines:\n",
    "        line_parts = line.split(' ')\n",
    "        valve_name = line_parts[1]\n",
    "        flow_rate = int(line_parts[4].replace(';', '').split('=')[1])\n",
    "\n",
    "        new_valve = Valve(valve_name, flow_rate)\n",
    "        valves[valve_name] = new_valve\n",
    "\n",
    "    # connections between valves\n",
    "    for line in lines:\n",
    "        line_parts = line.split(' ')\n",
    "        valve_name = line_parts[1]\n",
    "        if 'valves' in line_parts:\n",
    "            target_names = [valve.replace(',', '') for valve in line_parts[line_parts.index('valves') + 1:]]\n",
    "        else:\n",
    "            # only one target valve\n",
    "            target_names = [line_parts[-1]]\n",
    "        \n",
    "        source_valve = valves[valve_name]\n",
    "        for target_name in target_names:\n",
    "            target_valve = valves[target_name]\n",
    "            source_valve.add_neighbor(target_valve)\n",
    "            target_valve.add_neighbor(source_valve)\n",
    "\n",
    "        # print(line)\n",
    "        # print(f\"{valve_name=}, {flow_rate=}, {target_names=}\")\n",
    "    return valves"
   ]
  },
  {
   "cell_type": "code",
   "execution_count": 7,
   "metadata": {},
   "outputs": [],
   "source": [
    "def compute_scores(current_t: int, \n",
    "                    current_score: int, \n",
    "                    current_valve: Valve, \n",
    "                    open_valves: list):\n",
    "    #print(f\"t={current_t}, Valve: {current_valve.name}, opened: {current_valve.name in open_valves}\")\n",
    "    if current_t == 30:\n",
    "        return [current_score]\n",
    "    #possible actions: open if closed, visit each of the neighbors\n",
    "    possible_scores_from_here = []\n",
    "    # open if closed\n",
    "    if current_valve.name not in open_valves:\n",
    "        possible_scores_from_here += compute_scores(current_t+1, \n",
    "                                                    current_score + ((30-(current_t+1)) * current_valve.flow_rate), \n",
    "                                                    current_valve, \n",
    "                                                    open_valves+[current_valve.name])\n",
    "    # visit all neighbors\n",
    "    for neighbor_valve in current_valve.neighbors:\n",
    "        possible_scores_from_here += compute_scores(current_t+1, \n",
    "                                                    current_score,\n",
    "                                                    neighbor_valve, \n",
    "                                                    open_valves)\n",
    "    return [max(possible_scores_from_here)]"
   ]
  },
  {
   "cell_type": "code",
   "execution_count": 8,
   "metadata": {},
   "outputs": [],
   "source": [
    "def solve1(file): \n",
    "    with open(file, 'r') as f:\n",
    "        lines = f.readlines()\n",
    "        lines = [entry.strip() for entry in lines]\n",
    "\n",
    "    valves = create_and_connect_valves(lines)\n",
    "\n",
    "    time = 0\n",
    "    scores = compute_scores(current_t=0, current_score=0, current_valve=valves['AA'], open_valves=[])\n",
    "    print(max(scores))"
   ]
  },
  {
   "cell_type": "code",
   "execution_count": 10,
   "metadata": {},
   "outputs": [
    {
     "ename": "KeyboardInterrupt",
     "evalue": "",
     "output_type": "error",
     "traceback": [
      "\u001b[0;31m---------------------------------------------------------------------------\u001b[0m",
      "\u001b[0;31mKeyboardInterrupt\u001b[0m                         Traceback (most recent call last)",
      "Cell \u001b[0;32mIn[10], line 1\u001b[0m\n\u001b[0;32m----> 1\u001b[0m solve1(\u001b[39m'\u001b[39;49m\u001b[39mexample.txt\u001b[39;49m\u001b[39m'\u001b[39;49m)\n",
      "Cell \u001b[0;32mIn[8], line 9\u001b[0m, in \u001b[0;36msolve1\u001b[0;34m(file)\u001b[0m\n\u001b[1;32m      6\u001b[0m valves \u001b[39m=\u001b[39m create_and_connect_valves(lines)\n\u001b[1;32m      8\u001b[0m time \u001b[39m=\u001b[39m \u001b[39m0\u001b[39m\n\u001b[0;32m----> 9\u001b[0m scores \u001b[39m=\u001b[39m compute_scores(current_t\u001b[39m=\u001b[39;49m\u001b[39m0\u001b[39;49m, current_score\u001b[39m=\u001b[39;49m\u001b[39m0\u001b[39;49m, current_valve\u001b[39m=\u001b[39;49mvalves[\u001b[39m'\u001b[39;49m\u001b[39mAA\u001b[39;49m\u001b[39m'\u001b[39;49m], open_valves\u001b[39m=\u001b[39;49m[])\n\u001b[1;32m     10\u001b[0m \u001b[39mprint\u001b[39m(\u001b[39mmax\u001b[39m(scores))\n",
      "Cell \u001b[0;32mIn[7], line 12\u001b[0m, in \u001b[0;36mcompute_scores\u001b[0;34m(current_t, current_score, current_valve, open_valves)\u001b[0m\n\u001b[1;32m     10\u001b[0m \u001b[39m# open if closed\u001b[39;00m\n\u001b[1;32m     11\u001b[0m \u001b[39mif\u001b[39;00m current_valve\u001b[39m.\u001b[39mname \u001b[39mnot\u001b[39;00m \u001b[39min\u001b[39;00m open_valves:\n\u001b[0;32m---> 12\u001b[0m     possible_scores_from_here \u001b[39m+\u001b[39m\u001b[39m=\u001b[39m compute_scores(current_t\u001b[39m+\u001b[39;49m\u001b[39m1\u001b[39;49m, \n\u001b[1;32m     13\u001b[0m                                                 current_score \u001b[39m+\u001b[39;49m ((\u001b[39m30\u001b[39;49m\u001b[39m-\u001b[39;49m(current_t\u001b[39m+\u001b[39;49m\u001b[39m1\u001b[39;49m)) \u001b[39m*\u001b[39;49m current_valve\u001b[39m.\u001b[39;49mflow_rate), \n\u001b[1;32m     14\u001b[0m                                                 current_valve, \n\u001b[1;32m     15\u001b[0m                                                 open_valves\u001b[39m+\u001b[39;49m[current_valve\u001b[39m.\u001b[39;49mname])\n\u001b[1;32m     16\u001b[0m \u001b[39m# visit all neighbors\u001b[39;00m\n\u001b[1;32m     17\u001b[0m \u001b[39mfor\u001b[39;00m neighbor_valve \u001b[39min\u001b[39;00m current_valve\u001b[39m.\u001b[39mneighbors:\n",
      "Cell \u001b[0;32mIn[7], line 18\u001b[0m, in \u001b[0;36mcompute_scores\u001b[0;34m(current_t, current_score, current_valve, open_valves)\u001b[0m\n\u001b[1;32m     16\u001b[0m \u001b[39m# visit all neighbors\u001b[39;00m\n\u001b[1;32m     17\u001b[0m \u001b[39mfor\u001b[39;00m neighbor_valve \u001b[39min\u001b[39;00m current_valve\u001b[39m.\u001b[39mneighbors:\n\u001b[0;32m---> 18\u001b[0m     possible_scores_from_here \u001b[39m+\u001b[39m\u001b[39m=\u001b[39m compute_scores(current_t\u001b[39m+\u001b[39;49m\u001b[39m1\u001b[39;49m, \n\u001b[1;32m     19\u001b[0m                                                 current_score,\n\u001b[1;32m     20\u001b[0m                                                 neighbor_valve, \n\u001b[1;32m     21\u001b[0m                                                 open_valves)\n\u001b[1;32m     22\u001b[0m \u001b[39mreturn\u001b[39;00m [\u001b[39mmax\u001b[39m(possible_scores_from_here)]\n",
      "Cell \u001b[0;32mIn[7], line 12\u001b[0m, in \u001b[0;36mcompute_scores\u001b[0;34m(current_t, current_score, current_valve, open_valves)\u001b[0m\n\u001b[1;32m     10\u001b[0m \u001b[39m# open if closed\u001b[39;00m\n\u001b[1;32m     11\u001b[0m \u001b[39mif\u001b[39;00m current_valve\u001b[39m.\u001b[39mname \u001b[39mnot\u001b[39;00m \u001b[39min\u001b[39;00m open_valves:\n\u001b[0;32m---> 12\u001b[0m     possible_scores_from_here \u001b[39m+\u001b[39m\u001b[39m=\u001b[39m compute_scores(current_t\u001b[39m+\u001b[39;49m\u001b[39m1\u001b[39;49m, \n\u001b[1;32m     13\u001b[0m                                                 current_score \u001b[39m+\u001b[39;49m ((\u001b[39m30\u001b[39;49m\u001b[39m-\u001b[39;49m(current_t\u001b[39m+\u001b[39;49m\u001b[39m1\u001b[39;49m)) \u001b[39m*\u001b[39;49m current_valve\u001b[39m.\u001b[39;49mflow_rate), \n\u001b[1;32m     14\u001b[0m                                                 current_valve, \n\u001b[1;32m     15\u001b[0m                                                 open_valves\u001b[39m+\u001b[39;49m[current_valve\u001b[39m.\u001b[39;49mname])\n\u001b[1;32m     16\u001b[0m \u001b[39m# visit all neighbors\u001b[39;00m\n\u001b[1;32m     17\u001b[0m \u001b[39mfor\u001b[39;00m neighbor_valve \u001b[39min\u001b[39;00m current_valve\u001b[39m.\u001b[39mneighbors:\n",
      "Cell \u001b[0;32mIn[7], line 18\u001b[0m, in \u001b[0;36mcompute_scores\u001b[0;34m(current_t, current_score, current_valve, open_valves)\u001b[0m\n\u001b[1;32m     16\u001b[0m \u001b[39m# visit all neighbors\u001b[39;00m\n\u001b[1;32m     17\u001b[0m \u001b[39mfor\u001b[39;00m neighbor_valve \u001b[39min\u001b[39;00m current_valve\u001b[39m.\u001b[39mneighbors:\n\u001b[0;32m---> 18\u001b[0m     possible_scores_from_here \u001b[39m+\u001b[39m\u001b[39m=\u001b[39m compute_scores(current_t\u001b[39m+\u001b[39;49m\u001b[39m1\u001b[39;49m, \n\u001b[1;32m     19\u001b[0m                                                 current_score,\n\u001b[1;32m     20\u001b[0m                                                 neighbor_valve, \n\u001b[1;32m     21\u001b[0m                                                 open_valves)\n\u001b[1;32m     22\u001b[0m \u001b[39mreturn\u001b[39;00m [\u001b[39mmax\u001b[39m(possible_scores_from_here)]\n",
      "    \u001b[0;31m[... skipping similar frames: compute_scores at line 18 (21 times), compute_scores at line 12 (1 times)]\u001b[0m\n",
      "Cell \u001b[0;32mIn[7], line 12\u001b[0m, in \u001b[0;36mcompute_scores\u001b[0;34m(current_t, current_score, current_valve, open_valves)\u001b[0m\n\u001b[1;32m     10\u001b[0m \u001b[39m# open if closed\u001b[39;00m\n\u001b[1;32m     11\u001b[0m \u001b[39mif\u001b[39;00m current_valve\u001b[39m.\u001b[39mname \u001b[39mnot\u001b[39;00m \u001b[39min\u001b[39;00m open_valves:\n\u001b[0;32m---> 12\u001b[0m     possible_scores_from_here \u001b[39m+\u001b[39m\u001b[39m=\u001b[39m compute_scores(current_t\u001b[39m+\u001b[39;49m\u001b[39m1\u001b[39;49m, \n\u001b[1;32m     13\u001b[0m                                                 current_score \u001b[39m+\u001b[39;49m ((\u001b[39m30\u001b[39;49m\u001b[39m-\u001b[39;49m(current_t\u001b[39m+\u001b[39;49m\u001b[39m1\u001b[39;49m)) \u001b[39m*\u001b[39;49m current_valve\u001b[39m.\u001b[39;49mflow_rate), \n\u001b[1;32m     14\u001b[0m                                                 current_valve, \n\u001b[1;32m     15\u001b[0m                                                 open_valves\u001b[39m+\u001b[39;49m[current_valve\u001b[39m.\u001b[39;49mname])\n\u001b[1;32m     16\u001b[0m \u001b[39m# visit all neighbors\u001b[39;00m\n\u001b[1;32m     17\u001b[0m \u001b[39mfor\u001b[39;00m neighbor_valve \u001b[39min\u001b[39;00m current_valve\u001b[39m.\u001b[39mneighbors:\n",
      "Cell \u001b[0;32mIn[7], line 18\u001b[0m, in \u001b[0;36mcompute_scores\u001b[0;34m(current_t, current_score, current_valve, open_valves)\u001b[0m\n\u001b[1;32m     16\u001b[0m \u001b[39m# visit all neighbors\u001b[39;00m\n\u001b[1;32m     17\u001b[0m \u001b[39mfor\u001b[39;00m neighbor_valve \u001b[39min\u001b[39;00m current_valve\u001b[39m.\u001b[39mneighbors:\n\u001b[0;32m---> 18\u001b[0m     possible_scores_from_here \u001b[39m+\u001b[39m\u001b[39m=\u001b[39m compute_scores(current_t\u001b[39m+\u001b[39m\u001b[39m1\u001b[39m, \n\u001b[1;32m     19\u001b[0m                                                 current_score,\n\u001b[1;32m     20\u001b[0m                                                 neighbor_valve, \n\u001b[1;32m     21\u001b[0m                                                 open_valves)\n\u001b[1;32m     22\u001b[0m \u001b[39mreturn\u001b[39;00m [\u001b[39mmax\u001b[39m(possible_scores_from_here)]\n",
      "\u001b[0;31mKeyboardInterrupt\u001b[0m: "
     ]
    }
   ],
   "source": [
    "#takes forever\n",
    "#solve1('example.txt')"
   ]
  },
  {
   "cell_type": "code",
   "execution_count": null,
   "metadata": {},
   "outputs": [],
   "source": []
  }
 ],
 "metadata": {
  "kernelspec": {
   "display_name": "venv",
   "language": "python",
   "name": "python3"
  },
  "language_info": {
   "codemirror_mode": {
    "name": "ipython",
    "version": 3
   },
   "file_extension": ".py",
   "mimetype": "text/x-python",
   "name": "python",
   "nbconvert_exporter": "python",
   "pygments_lexer": "ipython3",
   "version": "3.10.6"
  },
  "orig_nbformat": 4,
  "vscode": {
   "interpreter": {
    "hash": "3625fa8b66c9fb73b94672e70961d490a07c75af66e5af2a8a91f2874716f9ab"
   }
  }
 },
 "nbformat": 4,
 "nbformat_minor": 2
}
