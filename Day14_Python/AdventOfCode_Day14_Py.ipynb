{
 "cells": [
  {
   "cell_type": "code",
   "execution_count": 79,
   "metadata": {},
   "outputs": [],
   "source": [
    "import numpy as np"
   ]
  },
  {
   "cell_type": "code",
   "execution_count": 80,
   "metadata": {},
   "outputs": [],
   "source": [
    "def add_sand_particle(grid, end_of_rock_field):\n",
    "    sand = (500,0)\n",
    "    while sand[1] <= end_of_rock_field:\n",
    "        # down\n",
    "        if grid[sand[0], sand[1]+1] == 0:\n",
    "            sand = (sand[0], sand[1]+1)\n",
    "        # left down\n",
    "        elif grid[sand[0]-1, sand[1]+1] == 0:\n",
    "            sand = (sand[0]-1, sand[1]+1)\n",
    "        # right down\n",
    "        elif grid[sand[0]+1, sand[1]+1] == 0:\n",
    "            sand = (sand[0]+1, sand[1]+1)\n",
    "        else:\n",
    "            return sand\n",
    "    return (-1, -1)"
   ]
  },
  {
   "cell_type": "code",
   "execution_count": 81,
   "metadata": {},
   "outputs": [],
   "source": [
    "def register_rock_tiles(file):\n",
    "    with open(file, 'r') as f:\n",
    "        lines = f.readlines()\n",
    "        lines = [entry.strip() for entry in lines]\n",
    "    \n",
    "    grid = np.zeros((1000, 200))\n",
    "    end_of_rock_field = 0\n",
    "    for line in lines:\n",
    "        corners = line.split(' -> ')\n",
    "        for i in range(len(corners) - 1):\n",
    "            start_corner, end_corner = corners[i], corners[i+1]\n",
    "            xs = [int(start_corner.split(',')[0]), int(end_corner.split(',')[0])]\n",
    "            ys = [int(start_corner.split(',')[1]), int(end_corner.split(',')[1])]\n",
    "            for x in range(min(xs), max(xs)+1):\n",
    "                for y in range(min(ys), max(ys)+1):\n",
    "                    if y > end_of_rock_field:\n",
    "                        end_of_rock_field = y\n",
    "                    grid[x, y] = 1\n",
    "    return grid, end_of_rock_field"
   ]
  },
  {
   "cell_type": "code",
   "execution_count": 82,
   "metadata": {},
   "outputs": [],
   "source": [
    "def solve1(file):\n",
    "    grid, end_of_rock_field = register_rock_tiles(file)\n",
    "\n",
    "    sand_tiles = 0\n",
    "    new_sand = add_sand_particle(grid, end_of_rock_field)\n",
    "    while new_sand != (-1, -1):\n",
    "        grid[new_sand[0], new_sand[1]] = 1\n",
    "        sand_tiles +=1\n",
    "        new_sand = add_sand_particle(grid, end_of_rock_field)\n",
    "    print(sand_tiles)"
   ]
  },
  {
   "cell_type": "code",
   "execution_count": 83,
   "metadata": {},
   "outputs": [
    {
     "name": "stdout",
     "output_type": "stream",
     "text": [
      "24\n"
     ]
    }
   ],
   "source": [
    "solve1('example.txt')"
   ]
  },
  {
   "cell_type": "code",
   "execution_count": 84,
   "metadata": {},
   "outputs": [],
   "source": [
    "def add_sand_particle2(grid, end_of_rock_field):\n",
    "    sand = (500,0)\n",
    "    bottom = end_of_rock_field + 2\n",
    "    while sand[1]+1 < bottom:\n",
    "        # down\n",
    "        if grid[sand[0], sand[1]+1] == 0:\n",
    "            sand = (sand[0], sand[1]+1)\n",
    "        # left down\n",
    "        elif grid[sand[0]-1, sand[1]+1] == 0:\n",
    "            sand = (sand[0]-1, sand[1]+1)\n",
    "        # right down\n",
    "        elif grid[sand[0]+1, sand[1]+1] == 0:\n",
    "            sand = (sand[0]+1, sand[1]+1)\n",
    "        else:\n",
    "            return sand\n",
    "    return sand"
   ]
  },
  {
   "cell_type": "code",
   "execution_count": 85,
   "metadata": {},
   "outputs": [],
   "source": [
    "def solve2(file):\n",
    "    grid, end_of_rock_field = register_rock_tiles(file)\n",
    "\n",
    "    sand_tiles = 0\n",
    "    new_sand = add_sand_particle2(grid, end_of_rock_field)\n",
    "    while grid[500, 0] == 0:\n",
    "        grid[new_sand[0], new_sand[1]] = 1\n",
    "        sand_tiles += 1\n",
    "        new_sand = add_sand_particle2(grid, end_of_rock_field)\n",
    "    print(sand_tiles)"
   ]
  },
  {
   "cell_type": "code",
   "execution_count": 86,
   "metadata": {},
   "outputs": [
    {
     "name": "stdout",
     "output_type": "stream",
     "text": [
      "93\n"
     ]
    }
   ],
   "source": [
    "solve2('example.txt')"
   ]
  },
  {
   "cell_type": "code",
   "execution_count": null,
   "metadata": {},
   "outputs": [],
   "source": []
  }
 ],
 "metadata": {
  "kernelspec": {
   "display_name": "venv",
   "language": "python",
   "name": "python3"
  },
  "language_info": {
   "codemirror_mode": {
    "name": "ipython",
    "version": 3
   },
   "file_extension": ".py",
   "mimetype": "text/x-python",
   "name": "python",
   "nbconvert_exporter": "python",
   "pygments_lexer": "ipython3",
   "version": "3.10.6"
  },
  "orig_nbformat": 4,
  "vscode": {
   "interpreter": {
    "hash": "3625fa8b66c9fb73b94672e70961d490a07c75af66e5af2a8a91f2874716f9ab"
   }
  }
 },
 "nbformat": 4,
 "nbformat_minor": 2
}
